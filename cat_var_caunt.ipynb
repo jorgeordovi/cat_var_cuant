{
 "cells": [
  {
   "cell_type": "code",
   "execution_count": 1,
   "metadata": {},
   "outputs": [],
   "source": [
    "import numpy as np"
   ]
  },
  {
   "cell_type": "code",
   "execution_count": 2,
   "metadata": {},
   "outputs": [],
   "source": [
    "import pandas as pd"
   ]
  },
  {
   "cell_type": "code",
   "execution_count": 3,
   "metadata": {},
   "outputs": [],
   "source": [
    "from sklearn.preprocessing import LabelEncoder, OrdinalEncoder, OneHotEncoder"
   ]
  },
  {
   "cell_type": "code",
   "execution_count": 4,
   "metadata": {},
   "outputs": [
    {
     "data": {
      "text/html": [
       "<div>\n",
       "<style scoped>\n",
       "    .dataframe tbody tr th:only-of-type {\n",
       "        vertical-align: middle;\n",
       "    }\n",
       "\n",
       "    .dataframe tbody tr th {\n",
       "        vertical-align: top;\n",
       "    }\n",
       "\n",
       "    .dataframe thead th {\n",
       "        text-align: right;\n",
       "    }\n",
       "</style>\n",
       "<table border=\"1\" class=\"dataframe\">\n",
       "  <thead>\n",
       "    <tr style=\"text-align: right;\">\n",
       "      <th></th>\n",
       "      <th>A</th>\n",
       "      <th>B</th>\n",
       "    </tr>\n",
       "  </thead>\n",
       "  <tbody>\n",
       "    <tr>\n",
       "      <th>0</th>\n",
       "      <td>19</td>\n",
       "      <td>140</td>\n",
       "    </tr>\n",
       "    <tr>\n",
       "      <th>1</th>\n",
       "      <td>98</td>\n",
       "      <td>397</td>\n",
       "    </tr>\n",
       "    <tr>\n",
       "      <th>2</th>\n",
       "      <td>62</td>\n",
       "      <td>246</td>\n",
       "    </tr>\n",
       "    <tr>\n",
       "      <th>3</th>\n",
       "      <td>12</td>\n",
       "      <td>470</td>\n",
       "    </tr>\n",
       "    <tr>\n",
       "      <th>4</th>\n",
       "      <td>42</td>\n",
       "      <td>199</td>\n",
       "    </tr>\n",
       "    <tr>\n",
       "      <th>5</th>\n",
       "      <td>90</td>\n",
       "      <td>366</td>\n",
       "    </tr>\n",
       "    <tr>\n",
       "      <th>6</th>\n",
       "      <td>24</td>\n",
       "      <td>491</td>\n",
       "    </tr>\n",
       "    <tr>\n",
       "      <th>7</th>\n",
       "      <td>93</td>\n",
       "      <td>285</td>\n",
       "    </tr>\n",
       "    <tr>\n",
       "      <th>8</th>\n",
       "      <td>28</td>\n",
       "      <td>467</td>\n",
       "    </tr>\n",
       "    <tr>\n",
       "      <th>9</th>\n",
       "      <td>7</td>\n",
       "      <td>209</td>\n",
       "    </tr>\n",
       "  </tbody>\n",
       "</table>\n",
       "</div>"
      ],
      "text/plain": [
       "    A    B\n",
       "0  19  140\n",
       "1  98  397\n",
       "2  62  246\n",
       "3  12  470\n",
       "4  42  199\n",
       "5  90  366\n",
       "6  24  491\n",
       "7  93  285\n",
       "8  28  467\n",
       "9   7  209"
      ]
     },
     "execution_count": 4,
     "metadata": {},
     "output_type": "execute_result"
    }
   ],
   "source": [
    "rng = np.random.default_rng()\n",
    "\n",
    "a_values = rng.integers(low=0,high=100,size=10)\n",
    "b_values = rng.integers(low=100,high=500,size=10)\n",
    "\n",
    "data = pd.DataFrame({'A':a_values, 'B':b_values})\n",
    "data"
   ]
  },
  {
   "cell_type": "code",
   "execution_count": 5,
   "metadata": {},
   "outputs": [
    {
     "data": {
      "text/plain": [
       "count    10.000000\n",
       "mean     47.500000\n",
       "std      35.453412\n",
       "min       7.000000\n",
       "25%      20.250000\n",
       "50%      35.000000\n",
       "75%      83.000000\n",
       "max      98.000000\n",
       "Name: A, dtype: float64"
      ]
     },
     "execution_count": 5,
     "metadata": {},
     "output_type": "execute_result"
    }
   ],
   "source": [
    "data.A.describe()"
   ]
  },
  {
   "cell_type": "code",
   "execution_count": 6,
   "metadata": {},
   "outputs": [
    {
     "data": {
      "text/plain": [
       "count     10.000000\n",
       "mean     327.000000\n",
       "std      127.788019\n",
       "min      140.000000\n",
       "25%      218.250000\n",
       "50%      325.500000\n",
       "75%      449.500000\n",
       "max      491.000000\n",
       "Name: B, dtype: float64"
      ]
     },
     "execution_count": 6,
     "metadata": {},
     "output_type": "execute_result"
    }
   ],
   "source": [
    "data.B.describe()"
   ]
  },
  {
   "cell_type": "code",
   "execution_count": 7,
   "metadata": {},
   "outputs": [
    {
     "data": {
      "text/plain": [
       "CategoricalDtype(categories=[[0, 30), [30, 40), [40, 50), [50, 60), [60, 100)], ordered=True)"
      ]
     },
     "execution_count": 7,
     "metadata": {},
     "output_type": "execute_result"
    }
   ],
   "source": [
    "bins = [0,30,40,50,60,100]\n",
    "\n",
    "A_categories = pd.cut(data.A,bins,right=False)\n",
    "A_categories.dtype\n",
    "\n",
    "A_categories = pd.cut(data.A, [0,30,40,50,60,100],right=False)\n",
    "A_categories.dtype"
   ]
  },
  {
   "cell_type": "code",
   "execution_count": 8,
   "metadata": {},
   "outputs": [
    {
     "data": {
      "text/plain": [
       "demasiado poco    5\n",
       "demasiado         4\n",
       "normal            1\n",
       "poco              0\n",
       "mucho             0\n",
       "Name: A, dtype: int64"
      ]
     },
     "execution_count": 8,
     "metadata": {},
     "output_type": "execute_result"
    }
   ],
   "source": [
    "group_labels = ['demasiado poco', 'poco', 'normal', 'mucho', 'demasiado']\n",
    "A_categories_labels = pd.cut(data.A,bins,labels=group_labels)\n",
    "A_categories_labels.value_counts()"
   ]
  },
  {
   "cell_type": "code",
   "execution_count": 9,
   "metadata": {},
   "outputs": [
    {
     "data": {
      "text/html": [
       "<div>\n",
       "<style scoped>\n",
       "    .dataframe tbody tr th:only-of-type {\n",
       "        vertical-align: middle;\n",
       "    }\n",
       "\n",
       "    .dataframe tbody tr th {\n",
       "        vertical-align: top;\n",
       "    }\n",
       "\n",
       "    .dataframe thead th {\n",
       "        text-align: right;\n",
       "    }\n",
       "</style>\n",
       "<table border=\"1\" class=\"dataframe\">\n",
       "  <thead>\n",
       "    <tr style=\"text-align: right;\">\n",
       "      <th></th>\n",
       "      <th>A</th>\n",
       "      <th>B</th>\n",
       "    </tr>\n",
       "  </thead>\n",
       "  <tbody>\n",
       "    <tr>\n",
       "      <th>0</th>\n",
       "      <td>19</td>\n",
       "      <td>140</td>\n",
       "    </tr>\n",
       "    <tr>\n",
       "      <th>1</th>\n",
       "      <td>98</td>\n",
       "      <td>397</td>\n",
       "    </tr>\n",
       "    <tr>\n",
       "      <th>2</th>\n",
       "      <td>62</td>\n",
       "      <td>246</td>\n",
       "    </tr>\n",
       "    <tr>\n",
       "      <th>3</th>\n",
       "      <td>12</td>\n",
       "      <td>470</td>\n",
       "    </tr>\n",
       "    <tr>\n",
       "      <th>4</th>\n",
       "      <td>42</td>\n",
       "      <td>199</td>\n",
       "    </tr>\n",
       "    <tr>\n",
       "      <th>5</th>\n",
       "      <td>90</td>\n",
       "      <td>366</td>\n",
       "    </tr>\n",
       "    <tr>\n",
       "      <th>6</th>\n",
       "      <td>24</td>\n",
       "      <td>491</td>\n",
       "    </tr>\n",
       "    <tr>\n",
       "      <th>7</th>\n",
       "      <td>93</td>\n",
       "      <td>285</td>\n",
       "    </tr>\n",
       "    <tr>\n",
       "      <th>8</th>\n",
       "      <td>28</td>\n",
       "      <td>467</td>\n",
       "    </tr>\n",
       "    <tr>\n",
       "      <th>9</th>\n",
       "      <td>7</td>\n",
       "      <td>209</td>\n",
       "    </tr>\n",
       "  </tbody>\n",
       "</table>\n",
       "</div>"
      ],
      "text/plain": [
       "    A    B\n",
       "0  19  140\n",
       "1  98  397\n",
       "2  62  246\n",
       "3  12  470\n",
       "4  42  199\n",
       "5  90  366\n",
       "6  24  491\n",
       "7  93  285\n",
       "8  28  467\n",
       "9   7  209"
      ]
     },
     "execution_count": 9,
     "metadata": {},
     "output_type": "execute_result"
    }
   ],
   "source": [
    "data"
   ]
  },
  {
   "cell_type": "code",
   "execution_count": 12,
   "metadata": {},
   "outputs": [
    {
     "name": "stdout",
     "output_type": "stream",
     "text": [
      "    A    B    Category     Size  Color\n",
      "0  19  140       Honda  mediano   rojo\n",
      "1  98  397       Mazda   grande   rojo\n",
      "2  62  246       Mazda  mediano   azul\n",
      "3  12  470       Mazda  pequeño   rojo\n",
      "4  42  199      Toyota  pequeño   azul\n",
      "5  90  366      Toyota   grande   azul\n",
      "6  24  491       Honda  mediano  verde\n",
      "7  93  285      Suzuki  pequeño   rojo\n",
      "8  28  467       Honda  mediano   rojo\n",
      "9   7  209  Mitsubishi  mediano   rojo\n"
     ]
    }
   ],
   "source": [
    "categories = ['Subaru', 'Mazda', 'Mitsubishi', 'Honda','Toyota', 'Suzuki']\n",
    "data['Category']=rng.choice(categories,size=10)\n",
    "data['Size']=rng.choice(['pequeño','mediano','grande'],size=10)\n",
    "data['Color']=rng.choice(['rojo','azul','verde'],size=10)\n",
    "print(data)"
   ]
  },
  {
   "cell_type": "code",
   "execution_count": 14,
   "metadata": {},
   "outputs": [
    {
     "name": "stdout",
     "output_type": "stream",
     "text": [
      "    A    B    Category     Size  Color  CAtegory_encoder\n",
      "0  19  140       Honda  mediano   rojo                 0\n",
      "1  98  397       Mazda   grande   rojo                 1\n",
      "2  62  246       Mazda  mediano   azul                 1\n",
      "3  12  470       Mazda  pequeño   rojo                 1\n",
      "4  42  199      Toyota  pequeño   azul                 4\n",
      "5  90  366      Toyota   grande   azul                 4\n",
      "6  24  491       Honda  mediano  verde                 0\n",
      "7  93  285      Suzuki  pequeño   rojo                 3\n",
      "8  28  467       Honda  mediano   rojo                 0\n",
      "9   7  209  Mitsubishi  mediano   rojo                 2\n"
     ]
    }
   ],
   "source": [
    "label_encoder = LabelEncoder()\n",
    "data['CAtegory_encoder'] =label_encoder.fit_transform(data['Category'])\n",
    "print(data)\n"
   ]
  },
  {
   "cell_type": "code",
   "execution_count": 15,
   "metadata": {},
   "outputs": [
    {
     "name": "stdout",
     "output_type": "stream",
     "text": [
      "    A    B    Category     Size  Color  CAtegory_encoder  Size_encoded\n",
      "0  19  140       Honda  mediano   rojo                 0           1.0\n",
      "1  98  397       Mazda   grande   rojo                 1           2.0\n",
      "2  62  246       Mazda  mediano   azul                 1           1.0\n",
      "3  12  470       Mazda  pequeño   rojo                 1           0.0\n",
      "4  42  199      Toyota  pequeño   azul                 4           0.0\n",
      "5  90  366      Toyota   grande   azul                 4           2.0\n",
      "6  24  491       Honda  mediano  verde                 0           1.0\n",
      "7  93  285      Suzuki  pequeño   rojo                 3           0.0\n",
      "8  28  467       Honda  mediano   rojo                 0           1.0\n",
      "9   7  209  Mitsubishi  mediano   rojo                 2           1.0\n"
     ]
    }
   ],
   "source": [
    "ordindal_encoder = OrdinalEncoder(categories=[['pequeño','mediano','grande']])\n",
    "data['Size_encoded']=ordindal_encoder.fit_transform(data[['Size']])\n",
    "print(data)"
   ]
  },
  {
   "cell_type": "code",
   "execution_count": null,
   "metadata": {},
   "outputs": [],
   "source": []
  }
 ],
 "metadata": {
  "kernelspec": {
   "display_name": "Python 3 (ipykernel)",
   "language": "python",
   "name": "python3"
  },
  "language_info": {
   "codemirror_mode": {
    "name": "ipython",
    "version": 3
   },
   "file_extension": ".py",
   "mimetype": "text/x-python",
   "name": "python",
   "nbconvert_exporter": "python",
   "pygments_lexer": "ipython3",
   "version": "3.10.9"
  }
 },
 "nbformat": 4,
 "nbformat_minor": 2
}
